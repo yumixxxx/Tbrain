{
  "nbformat": 4,
  "nbformat_minor": 0,
  "metadata": {
    "colab": {
      "provenance": [],
      "include_colab_link": true
    },
    "kernelspec": {
      "name": "python3",
      "display_name": "Python 3"
    },
    "language_info": {
      "name": "python"
    },
    "gpuClass": "premium"
  },
  "cells": [
    {
      "cell_type": "markdown",
      "metadata": {
        "id": "view-in-github",
        "colab_type": "text"
      },
      "source": [
        "<a href=\"https://colab.research.google.com/github/yumixxxx/Tbrain/blob/main/run.ipynb\" target=\"_parent\"><img src=\"https://colab.research.google.com/assets/colab-badge.svg\" alt=\"Open In Colab\"/></a>"
      ]
    },
    {
      "cell_type": "code",
      "execution_count": null,
      "metadata": {
        "id": "hN8oi9zX-ZKO",
        "colab": {
          "base_uri": "https://localhost:8080/"
        },
        "outputId": "54090a1e-c15c-4291-c7bc-d483565d3ba2"
      },
      "outputs": [
        {
          "output_type": "stream",
          "name": "stdout",
          "text": [
            "Mounted at /content/gdrive\n"
          ]
        }
      ],
      "source": [
        "from google.colab import drive\n",
        "drive.mount('/content/gdrive' ,force_remount=True)\n",
        "%cd /content/gdrive/MyDrive/"
      ]
    },
    {
      "cell_type": "code",
      "source": [
        "import os\n",
        "if not os.path.isdir(\"Tbrain\"):\n",
        "  os.makedirs(\"Tbrain\")\n",
        "\n",
        "%cd Tbrain"
      ],
      "metadata": {
        "id": "pwA0uMvj5ug_"
      },
      "execution_count": null,
      "outputs": []
    },
    {
      "cell_type": "code",
      "source": [
        "!git clone https://github.com/yumixxxx/Tbrain"
      ],
      "metadata": {
        "id": "FFZUT9h_6eC0"
      },
      "execution_count": null,
      "outputs": []
    },
    {
      "cell_type": "markdown",
      "source": [
        "Detection"
      ],
      "metadata": {
        "id": "uOE5sOIIX4V0"
      }
    },
    {
      "cell_type": "code",
      "source": [
        "!python detect.py --weights 'weights/yolov7-e6e_best.pt' --img-size 1280 --source 'custom_data/private_test' --save-txt --save-conf\\\n",
        "--name 'private_testing_detect' --augment --conf-thres 0.3 --iou-thres 0.4"
      ],
      "metadata": {
        "colab": {
          "base_uri": "https://localhost:8080/"
        },
        "id": "nUFQWjqlqnip",
        "outputId": "cf7f675f-a04d-430c-c6b4-91c2857ccc91"
      },
      "execution_count": null,
      "outputs": [
        {
          "output_type": "stream",
          "name": "stdout",
          "text": [
            "/content\n"
          ]
        }
      ]
    },
    {
      "cell_type": "markdown",
      "source": [
        "Train"
      ],
      "metadata": {
        "id": "kFTyxLs1UAom"
      }
    },
    {
      "cell_type": "code",
      "source": [
        "!python train_aux.py --batch-size 8 --data 'data/custom_data.yaml' --epochs 20 --img 1280 1280 --cfg 'cfg/yolov7-e6e.yaml' \\\n",
        "--weights 'weights/yolov7-e6e_best.pt' --hyp 'data/hyp.scratch.p6.yaml'"
      ],
      "metadata": {
        "id": "cZEVVvC_UAPP"
      },
      "execution_count": null,
      "outputs": []
    }
  ]
}