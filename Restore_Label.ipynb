{
  "nbformat": 4,
  "nbformat_minor": 0,
  "metadata": {
    "colab": {
      "provenance": [],
      "authorship_tag": "ABX9TyO7QiZt3eBETzAgnOH0Pgb5",
      "include_colab_link": true
    },
    "kernelspec": {
      "name": "python3",
      "display_name": "Python 3"
    },
    "language_info": {
      "name": "python"
    }
  },
  "cells": [
    {
      "cell_type": "markdown",
      "metadata": {
        "id": "view-in-github",
        "colab_type": "text"
      },
      "source": [
        "<a href=\"https://colab.research.google.com/github/yumixxxx/Tbrain/blob/main/Restore_Label.ipynb\" target=\"_parent\"><img src=\"https://colab.research.google.com/assets/colab-badge.svg\" alt=\"Open In Colab\"/></a>"
      ]
    },
    {
      "cell_type": "code",
      "execution_count": null,
      "metadata": {
        "id": "aFSrSncOBQj9"
      },
      "outputs": [],
      "source": [
        "import glob\n",
        "import os\n",
        "import shutil\n",
        "import pandas as pd\n",
        "from PIL import Image\n",
        "import math"
      ]
    },
    {
      "cell_type": "code",
      "source": [
        "def denormalize(xcenter, ycenter, w, h, img_w, img_h):\n",
        "    xmin = (xcenter - w/2) * img_w\n",
        "    ymin = (ycenter - h/2) * img_h\n",
        "    ori_w = w * img_w\n",
        "    ori_h = h * img_h\n",
        "    \n",
        "    return round(xmin), round(ymin), round(ori_w), round(ori_h)"
      ],
      "metadata": {
        "id": "s6g_SQlEB2S4"
      },
      "execution_count": null,
      "outputs": []
    },
    {
      "cell_type": "code",
      "source": [
        "image_src = 'Private image path'\n",
        "label_src = 'Private label path'\n",
        "\n",
        "file_img = glob.glob(os.path.join(src, \"*.png\"), recursive=True)\n",
        "file_img.sort()\n",
        "\n",
        "for file_path in file_img:\n",
        "    img = Image.open(file_path)\n",
        "    if os.path.exists(label_src[:-8]+file_path[-8:-4]+'.txt'):\n",
        "        with open(label_src[:-8]+file_path[-8:-4]+'.txt', 'r') as f:\n",
        "            bboxes = f.readlines()\n",
        "            normalized_bbox = ''\n",
        "            for bbox in bboxes:\n",
        "                box_details = bbox[:-1].split(' ')\n",
        "                xmin, ymin, ori_w, ori_h = denormalize(float(box_details[1]), float(box_details[2]), float(box_details[3]), float(box_details[4]), img.size[0], img.size[1])\n",
        "                normalized_bbox += box_details[0]+' '+str(xmin)+' '+str(ymin)+' '+str(ori_w)+' '+str(ori_h)+'\\n'\n",
        "\n",
        "        with open('restore_labels/'+file_path[-8:-4]+'.txt', 'w') as f:\n",
        "            f.write(normalized_bbox)"
      ],
      "metadata": {
        "id": "CCMsUX-yB5HT"
      },
      "execution_count": null,
      "outputs": []
    },
    {
      "cell_type": "code",
      "source": [
        "# txt to csv\n",
        "\n",
        "import csv\n",
        "\n",
        "allfiles = glob.glob(os.path.join(\"restore_labels\", \"*.txt\"), recursive=True)\n",
        "allfiles.sort()\n",
        "for file_path in allfiles:\n",
        "    filename = file_path.split(\".\")[0]\n",
        "    f = open(file_path,'r')\n",
        "    for line in f:\n",
        "        whole_line = filename[-7:] + ' ' + line\n",
        "        with open('label.txt', 'a') as f:\n",
        "            f.write(whole_line)\n",
        "            \n",
        "df = pd.read_csv('label.txt',delimiter=\" \", header=None)\n",
        "df.to_csv('label.csv', encoding='utf-8', index=False, header=None)"
      ],
      "metadata": {
        "id": "XsAtiQLTC500"
      },
      "execution_count": null,
      "outputs": []
    }
  ]
}