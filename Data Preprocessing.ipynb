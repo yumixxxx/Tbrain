{
  "nbformat": 4,
  "nbformat_minor": 0,
  "metadata": {
    "colab": {
      "provenance": [],
      "authorship_tag": "ABX9TyPwI0IgJvGGWIxNtWSDSqcd",
      "include_colab_link": true
    },
    "kernelspec": {
      "name": "python3",
      "display_name": "Python 3"
    },
    "language_info": {
      "name": "python"
    }
  },
  "cells": [
    {
      "cell_type": "markdown",
      "metadata": {
        "id": "view-in-github",
        "colab_type": "text"
      },
      "source": [
        "<a href=\"https://colab.research.google.com/github/yumixxxx/Tbrain/blob/main/Data%20Preprocessing.ipynb\" target=\"_parent\"><img src=\"https://colab.research.google.com/assets/colab-badge.svg\" alt=\"Open In Colab\"/></a>"
      ]
    },
    {
      "cell_type": "code",
      "execution_count": null,
      "metadata": {
        "id": "t66KvTIF7XoX"
      },
      "outputs": [],
      "source": [
        "import os\n",
        "import glob\n",
        "import shutil\n",
        "import torch\n",
        "import zipfile\n",
        "from zipfile import ZipFile\n",
        "from PIL import Image\n",
        "from PIL import ImageFile\n",
        "from torchvision import transforms"
      ]
    },
    {
      "cell_type": "markdown",
      "source": [
        "1. Unzip Training Dataset_v5.zip\n"
      ],
      "metadata": {
        "id": "kXAlCvGuWt-r"
      }
    },
    {
      "cell_type": "code",
      "source": [
        "test_file_name = \"Training Dataset_v5.zip\"\n",
        "with ZipFile(test_file_name, 'r') as zip:\n",
        "    zip.printdir()\n",
        "    zip.extractall('Total_Dataset')"
      ],
      "metadata": {
        "id": "y4IRlp8x-djG"
      },
      "execution_count": null,
      "outputs": []
    },
    {
      "cell_type": "markdown",
      "source": [
        "2. Separate images and labels"
      ],
      "metadata": {
        "id": "asac3U8eWx-B"
      }
    },
    {
      "cell_type": "code",
      "source": [
        "#separate images and labels\n",
        "src = 'Total_Dataset/train'\n",
        "folder_image = 'All_images'\n",
        "folder_label = 'All_labels'\n",
        "\n",
        "#img\n",
        "file_img = glob.glob(os.path.join(src, \"*.png\"), recursive=True)\n",
        "for f1 in file_img:\n",
        "    dst_image = os.path.join(folder_image, os.path.basename(f1))\n",
        "#     print(dst_image)\n",
        "    shutil.copy(f1, dst_image)\n",
        "\n",
        "#label\n",
        "file_lab = glob.glob(os.path.join(src, \"*.txt\"), recursive=True)\n",
        "for f2 in file_lab:\n",
        "    dst_label = os.path.join(folder_label, os.path.basename(f2))\n",
        "#     print(dst_label)\n",
        "    shutil.copy(f2, dst_label)"
      ],
      "metadata": {
        "id": "TzSx0dvP-rzG"
      },
      "execution_count": null,
      "outputs": []
    },
    {
      "cell_type": "markdown",
      "source": [
        "3. Resize and Unsharp images\n",
        "4. Convert the labels into demanded yolo form"
      ],
      "metadata": {
        "id": "7YwVQ0ubBZ9P"
      }
    },
    {
      "cell_type": "code",
      "source": [
        "import albumentations as A\n",
        "import cv2\n",
        "import random\n",
        "import numpy as np\n",
        "import pandas as pd\n",
        "from matplotlib import pyplot as plt"
      ],
      "metadata": {
        "id": "TrUbbDvL_lYB"
      },
      "execution_count": null,
      "outputs": []
    },
    {
      "cell_type": "code",
      "source": [
        "transform = A.Compose([\n",
        "    A.Resize(width=1280, height=1280),\n",
        "    A.UnsharpMask(p=1)\n",
        "])"
      ],
      "metadata": {
        "id": "XL0Q0obWBuSV"
      },
      "execution_count": null,
      "outputs": []
    },
    {
      "cell_type": "code",
      "source": [
        "def normalize(bboxes:np.array, img_w, img_h):\n",
        "  bboxes[:,1] = (bboxes[:,1] + bboxes[:,3] / 2) / img_w\n",
        "  bboxes[:,2] = (bboxes[:,2] + bboxes[:,4] / 2) / img_h\n",
        "  bboxes[:,3] = bboxes[:,3] / img_w\n",
        "  bboxes[:,4] = bboxes[:,4] / img_h\n",
        "  return bboxes\n",
        "\n",
        "file_images = glob.glob(os.path.join(\"All_images\",\"*.png\"), recursive=True)\n",
        "file_images.sort()\n",
        "file_labels = glob.glob(os.path.join(\"All_labels\",\"*.txt\"), recursive=True)\n",
        "file_labels.sort()\n",
        "\n",
        "for image_path, label_path in zip(file_images, file_labels):   \n",
        "  #image\n",
        "  image = cv2.imread(image_path)\n",
        "  image = cv2.cvtColor(image, cv2.COLOR_BGR2RGB)\n",
        "\n",
        "  label_df = pd.read_csv(label_path, header=None, names=['c', 'x', 'y', 'w', 'h'])\n",
        "  label_df['class'] = label_df['c']\n",
        "  bboxes = label_df.drop(['c'], axis=1).to_numpy().tolist()\n",
        "\n",
        "  for i in range(1,3):\n",
        "    transformed = transform(image=image, bboxes = bboxes)\n",
        "    transformed_image = transformed['image']\n",
        "    transformed_bboxes = transformed['bboxes']\n",
        "    \n",
        "    if len(transformed_bboxes) != 0:\n",
        "      #transform and save images\n",
        "      im = Image.fromarray(transformed_image)\n",
        "      im.save(image_path)\n",
        "      \n",
        "      #transform and save labels\n",
        "      transformed_bboxes = np.array(transformed_bboxes)\n",
        "      classes = transformed_bboxes[:,[-1]]\n",
        "      transformed_bboxes = np.concatenate([classes, transformed_bboxes], axis=1)[:,:-1]\n",
        "\n",
        "      transformed_bboxes = normalize(transformed_bboxes, 1280, 1280)\n",
        "      transformed_bboxes = pd.DataFrame(transformed_bboxes)\n",
        "      transformed_bboxes[0] = transformed_bboxes[0].astype('int64')\n",
        "      transformed_bboxes.to_csv(label_path, sep=' ', header=False, index=False) #save\n",
        "    else:\n",
        "      with open(label_path, 'w') as f: #save\n",
        "        f.write('')"
      ],
      "metadata": {
        "id": "CnwPOYmfUccW"
      },
      "execution_count": null,
      "outputs": []
    },
    {
      "cell_type": "markdown",
      "source": [
        "5. Separate training data and validation data"
      ],
      "metadata": {
        "id": "dSMGa69LXAhX"
      }
    },
    {
      "cell_type": "code",
      "source": [
        "#image\n",
        "file1 = glob.glob(os.path.join(\"All_images\", \"*.png\"), recursive=True)\n",
        "file1.sort()\n",
        "\n",
        "for file_path in file1:\n",
        "    img = Image.open(file_path)\n",
        "    if(int(file_path[-8:-4])<801):\n",
        "        shutil.copy(file_path, \"custom_data/images/train\")\n",
        "    else:\n",
        "        shutil.copy(file_path, \"custom_data/images/val\")\n",
        "        \n",
        "        \n",
        "#label\n",
        "file2 = glob.glob(os.path.join(\"normalize_labels\", \"*.txt\"), recursive=True)\n",
        "file2.sort()\n",
        "\n",
        "for file_path in file2:\n",
        "    if(int(file_path[-8:-4])<801):\n",
        "        shutil.copy(file_path, \"custom_data/labels/train\")\n",
        "    else:\n",
        "        shutil.copy(file_path, \"custom_data/labels/val\")"
      ],
      "metadata": {
        "id": "q3xRl9oGWN5C"
      },
      "execution_count": null,
      "outputs": []
    }
  ]
}